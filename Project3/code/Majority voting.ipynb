{
 "cells": [
  {
   "cell_type": "code",
   "execution_count": null,
   "metadata": {},
   "outputs": [],
   "source": [
    "prediction1 = pd.read_csv('./submission1.csv')\n",
    "prediction2 = pd.read_csv('./submission2.csv')\n",
    "prediction3 = pd.read_csv('./submission3.csv')\n",
    "\n",
    "prediction1 = prediction1['Category'].values\n",
    "prediction2 = prediction2['Category'].values\n",
    "prediction3 = prediction3['Category'].values"
   ]
  },
  {
   "cell_type": "code",
   "execution_count": null,
   "metadata": {},
   "outputs": [],
   "source": [
    "labels = []\n",
    "labels.append(prediction1)\n",
    "labels.append(prediction2)\n",
    "labels.append(prediction3)\n",
    "\n",
    "labels = np.array(labels)\n",
    "labels"
   ]
  },
  {
   "cell_type": "code",
   "execution_count": null,
   "metadata": {},
   "outputs": [],
   "source": [
    "labels = scipy.stats.mode(labels)[0]\n",
    "labels = np.squeeze(labels)"
   ]
  },
  {
   "cell_type": "code",
   "execution_count": null,
   "metadata": {},
   "outputs": [],
   "source": [
    "submission = pd.DataFrame({'Id': np.arange(len(labels)), 'Category': labels})\n",
    "submission.to_csv('submission_voting.csv', index=False)\n",
    "submission.head(15)"
   ]
  }
 ],
 "metadata": {
  "kernelspec": {
   "display_name": "Python 3",
   "language": "python",
   "name": "python3"
  },
  "language_info": {
   "codemirror_mode": {
    "name": "ipython",
    "version": 3
   },
   "file_extension": ".py",
   "mimetype": "text/x-python",
   "name": "python",
   "nbconvert_exporter": "python",
   "pygments_lexer": "ipython3",
   "version": "3.6.7"
  }
 },
 "nbformat": 4,
 "nbformat_minor": 2
}
